{
 "cells": [
  {
   "cell_type": "code",
   "execution_count": 2,
   "metadata": {},
   "outputs": [
    {
     "name": "stdout",
     "output_type": "stream",
     "text": [
      "Requirement already satisfied: squarify in c:\\users\\lnshuti\\appdata\\local\\miniconda3\\envs\\data-tourism\\lib\\site-packages (0.4.3)\n"
     ]
    }
   ],
   "source": [
    "!pip install squarify"
   ]
  },
  {
   "cell_type": "code",
   "execution_count": null,
   "metadata": {},
   "outputs": [],
   "source": [
    "import pandas as pd\n",
    "import matplotlib.pyplot as plt\n",
    "import squarify"
   ]
  },
  {
   "cell_type": "markdown",
   "metadata": {},
   "source": [
    "# Japan Africa Trade"
   ]
  },
  {
   "cell_type": "code",
   "execution_count": 42,
   "metadata": {},
   "outputs": [
    {
     "data": {
      "text/html": [
       "<div>\n",
       "<style scoped>\n",
       "    .dataframe tbody tr th:only-of-type {\n",
       "        vertical-align: middle;\n",
       "    }\n",
       "\n",
       "    .dataframe tbody tr th {\n",
       "        vertical-align: top;\n",
       "    }\n",
       "\n",
       "    .dataframe thead th {\n",
       "        text-align: right;\n",
       "    }\n",
       "</style>\n",
       "<table border=\"1\" class=\"dataframe\">\n",
       "  <thead>\n",
       "    <tr style=\"text-align: right;\">\n",
       "      <th></th>\n",
       "      <th>Name</th>\n",
       "      <th>Gross Export</th>\n",
       "      <th>Share</th>\n",
       "      <th>Code</th>\n",
       "      <th>Sector</th>\n",
       "    </tr>\n",
       "  </thead>\n",
       "  <tbody>\n",
       "    <tr>\n",
       "      <th>0</th>\n",
       "      <td>Cargo ships and similar vessels</td>\n",
       "      <td>2371136457</td>\n",
       "      <td>23.724987</td>\n",
       "      <td>8901</td>\n",
       "      <td>Vehicles</td>\n",
       "    </tr>\n",
       "    <tr>\n",
       "      <th>1</th>\n",
       "      <td>Cars</td>\n",
       "      <td>1561132096</td>\n",
       "      <td>15.620290</td>\n",
       "      <td>8703</td>\n",
       "      <td>Vehicles</td>\n",
       "    </tr>\n",
       "    <tr>\n",
       "      <th>2</th>\n",
       "      <td>Motor vehicles for transporting goods</td>\n",
       "      <td>890431230</td>\n",
       "      <td>8.909428</td>\n",
       "      <td>8704</td>\n",
       "      <td>Vehicles</td>\n",
       "    </tr>\n",
       "    <tr>\n",
       "      <th>3</th>\n",
       "      <td>Flat-rolled iron, width &gt; 600mm, hot-rolled, n...</td>\n",
       "      <td>542278310</td>\n",
       "      <td>5.425898</td>\n",
       "      <td>7208</td>\n",
       "      <td>Metals</td>\n",
       "    </tr>\n",
       "    <tr>\n",
       "      <th>4</th>\n",
       "      <td>Commodities not specified according to kind</td>\n",
       "      <td>505293709</td>\n",
       "      <td>5.055840</td>\n",
       "      <td>9999</td>\n",
       "      <td>Other</td>\n",
       "    </tr>\n",
       "  </tbody>\n",
       "</table>\n",
       "</div>"
      ],
      "text/plain": [
       "                                                Name  Gross Export      Share  \\\n",
       "0                    Cargo ships and similar vessels    2371136457  23.724987   \n",
       "1                                               Cars    1561132096  15.620290   \n",
       "2              Motor vehicles for transporting goods     890431230   8.909428   \n",
       "3  Flat-rolled iron, width > 600mm, hot-rolled, n...     542278310   5.425898   \n",
       "4        Commodities not specified according to kind     505293709   5.055840   \n",
       "\n",
       "   Code    Sector  \n",
       "0  8901  Vehicles  \n",
       "1  8703  Vehicles  \n",
       "2  8704  Vehicles  \n",
       "3  7208    Metals  \n",
       "4  9999     Other  "
      ]
     },
     "execution_count": 42,
     "metadata": {},
     "output_type": "execute_result"
    }
   ],
   "source": [
    "# Loaded variable 'df' from URI: c:\\Users\\LNshuti\\Downloads\\What did Japan export to Africa in 2021_.csv\n",
    "import pandas as pd\n",
    "df_japan_africa = pd.read_csv(r'c:\\\\Users\\\\LNshuti\\\\Downloads\\\\What did Japan export to Africa in 2021_.csv')\n",
    "df_japan_africa.head()"
   ]
  },
  {
   "cell_type": "code",
   "execution_count": null,
   "metadata": {},
   "outputs": [],
   "source": [
    "# Group by 'Sector' and calculate the sum of 'Gross Export'\n",
    "grouped = df_japan_africa.groupby('Code')['Gross Export'].sum()\n",
    "\n",
    "# Calculate the total sum of 'Gross Export'\n",
    "total = grouped.sum()\n",
    "\n",
    "# Sort the sectors by their sums in descending order\n",
    "sorted_sectors = grouped.sort_values(ascending=False)\n",
    "\n",
    "# Initialize 'others' with 0\n",
    "others = 0\n",
    "\n",
    "# Iterate over the sorted sectors\n",
    "for sector, value in sorted_sectors.items():\n",
    "    # If the sum of 'others' is less than five percent of the total\n",
    "    if others < total * 0.0001:\n",
    "        # Add the value to 'others'\n",
    "        others += value\n",
    "        #print(others, value, total)\n",
    "        # Remove the sector from 'sorted_sectors'\n",
    "        sorted_sectors = sorted_sectors.drop(sector)\n",
    "    else:\n",
    "        # If the sum of 'others' is at least five percent of the total, stop the loop\n",
    "        break"
   ]
  },
  {
   "cell_type": "code",
   "execution_count": null,
   "metadata": {},
   "outputs": [],
   "source": [
    "top_12_sectors = sorted_sectors.head(12)\n",
    "\n",
    "# Add 'others' to 'sorted_sectors'\n",
    "top_12_sectors['others'] = others\n",
    "\n",
    "# Define the sizes of the sectors\n",
    "sizes = top_12_sectors.values\n",
    "\n",
    "# Define the labels of the sectors\n",
    "labels = top_12_sectors.index\n",
    "\n",
    "# Define the colors of the sectors\n",
    "colors = plt.cm.Set3(range(len(top_12_sectors)))\n",
    "\n",
    "# Create the treemap\n",
    "squarify.plot(sizes=sizes, label=labels, color=colors, alpha=0.7)\n",
    "\n",
    "# Add a title\n",
    "plt.title('Gross Exports by Sector')\n",
    "\n",
    "# Remove axis labels\n",
    "plt.axis('off')\n",
    "\n",
    "# Show the plot\n",
    "plt.show()"
   ]
  },
  {
   "cell_type": "markdown",
   "metadata": {},
   "source": [
    "# Liberia Trade\n"
   ]
  },
  {
   "cell_type": "code",
   "execution_count": 43,
   "metadata": {},
   "outputs": [
    {
     "data": {
      "text/html": [
       "<div>\n",
       "<style scoped>\n",
       "    .dataframe tbody tr th:only-of-type {\n",
       "        vertical-align: middle;\n",
       "    }\n",
       "\n",
       "    .dataframe tbody tr th {\n",
       "        vertical-align: top;\n",
       "    }\n",
       "\n",
       "    .dataframe thead th {\n",
       "        text-align: right;\n",
       "    }\n",
       "</style>\n",
       "<table border=\"1\" class=\"dataframe\">\n",
       "  <thead>\n",
       "    <tr style=\"text-align: right;\">\n",
       "      <th></th>\n",
       "      <th>Name</th>\n",
       "      <th>Gross Import</th>\n",
       "      <th>Share</th>\n",
       "    </tr>\n",
       "  </thead>\n",
       "  <tbody>\n",
       "    <tr>\n",
       "      <th>0</th>\n",
       "      <td>United Arab Emirates</td>\n",
       "      <td>44800148</td>\n",
       "      <td>0.271665</td>\n",
       "    </tr>\n",
       "    <tr>\n",
       "      <th>1</th>\n",
       "      <td>Argentina</td>\n",
       "      <td>2824033</td>\n",
       "      <td>0.017125</td>\n",
       "    </tr>\n",
       "    <tr>\n",
       "      <th>2</th>\n",
       "      <td>Australia</td>\n",
       "      <td>1229723</td>\n",
       "      <td>0.007457</td>\n",
       "    </tr>\n",
       "    <tr>\n",
       "      <th>3</th>\n",
       "      <td>Austria</td>\n",
       "      <td>3230243</td>\n",
       "      <td>0.019588</td>\n",
       "    </tr>\n",
       "    <tr>\n",
       "      <th>4</th>\n",
       "      <td>Belgium</td>\n",
       "      <td>48620830</td>\n",
       "      <td>0.294834</td>\n",
       "    </tr>\n",
       "  </tbody>\n",
       "</table>\n",
       "</div>"
      ],
      "text/plain": [
       "                   Name  Gross Import     Share\n",
       "0  United Arab Emirates      44800148  0.271665\n",
       "1             Argentina       2824033  0.017125\n",
       "2             Australia       1229723  0.007457\n",
       "3               Austria       3230243  0.019588\n",
       "4               Belgium      48620830  0.294834"
      ]
     },
     "execution_count": 43,
     "metadata": {},
     "output_type": "execute_result"
    }
   ],
   "source": [
    "# Liberia Imports \n",
    "df_liberia = pd.read_csv(r'c:\\\\Users\\\\LNshuti\\\\Downloads\\\\Where did Liberia import from in 2021_.csv')\n",
    "df_liberia.head()"
   ]
  },
  {
   "cell_type": "code",
   "execution_count": 38,
   "metadata": {},
   "outputs": [
    {
     "name": "stdout",
     "output_type": "stream",
     "text": [
      "Code\n",
      "8901    2371136457\n",
      "8703    1561132096\n",
      "8704     890431230\n",
      "7208     542278310\n",
      "9999     505293709\n",
      "           ...    \n",
      "7006          1169\n",
      "9103          1156\n",
      "6905          1123\n",
      "804            993\n",
      "805            980\n",
      "Name: Gross Export, Length: 844, dtype: int64\n"
     ]
    }
   ],
   "source": [
    "# Group by 'Sector' and calculate the sum of 'Gross Export'\n",
    "grouped = df_liberia.groupby('Code')['Gross Export'].sum()\n",
    "\n",
    "# Calculate the total sum of 'Gross Export'\n",
    "total = grouped.sum()\n",
    "\n",
    "# Sort the sectors by their sums in descending order\n",
    "sorted_sectors = grouped.sort_values(ascending=False)\n",
    "\n",
    "# Initialize 'others' with 0\n",
    "others = 0\n",
    "\n",
    "# Iterate over the sorted sectors\n",
    "for sector, value in sorted_sectors.items():\n",
    "    # If the sum of 'others' is less than five percent of the total\n",
    "    if others < total * 0.0001:\n",
    "        # Add the value to 'others'\n",
    "        others += value\n",
    "        #print(others, value, total)\n",
    "        # Remove the sector from 'sorted_sectors'\n",
    "        sorted_sectors = sorted_sectors.drop(sector)\n",
    "    else:\n",
    "        # If the sum of 'others' is at least five percent of the total, stop the loop\n",
    "        break\n"
   ]
  },
  {
   "cell_type": "code",
   "execution_count": 39,
   "metadata": {},
   "outputs": [
    {
     "data": {
      "text/plain": [
       "Code\n",
       "8703    1561132096\n",
       "8704     890431230\n",
       "7208     542278310\n",
       "9999     505293709\n",
       "8702     340540446\n",
       "           ...    \n",
       "7006          1169\n",
       "9103          1156\n",
       "6905          1123\n",
       "804            993\n",
       "805            980\n",
       "Name: Gross Export, Length: 843, dtype: int64"
      ]
     },
     "execution_count": 39,
     "metadata": {},
     "output_type": "execute_result"
    }
   ],
   "source": [
    "sorted_sectors"
   ]
  },
  {
   "cell_type": "code",
   "execution_count": 41,
   "metadata": {},
   "outputs": [
    {
     "data": {
      "image/png": "[encoded data removed]",
      "text/plain": [
       "<Figure size 640x480 with 1 Axes>"
      ]
     },
     "metadata": {},
     "output_type": "display_data"
    }
   ],
   "source": []
  }
 ],
 "metadata": {
  "kernelspec": {
   "display_name": "data-tourism",
   "language": "python",
   "name": "python3"
  },
  "language_info": {
   "codemirror_mode": {
    "name": "ipython",
    "version": 3
   },
   "file_extension": ".py",
   "mimetype": "text/x-python",
   "name": "python",
   "nbconvert_exporter": "python",
   "pygments_lexer": "ipython3",
   "version": "3.11.9"
  }
 },
 "nbformat": 4,
 "nbformat_minor": 2
}
